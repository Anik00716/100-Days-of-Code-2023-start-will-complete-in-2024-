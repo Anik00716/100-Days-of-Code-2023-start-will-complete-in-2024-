{
 "cells": [
  {
   "cell_type": "code",
   "execution_count": 3,
   "metadata": {},
   "outputs": [
    {
     "name": "stdout",
     "output_type": "stream",
     "text": [
      "{'France': ['Paris', 'Lille', 'Dijon'], 'Germany': ['Berlin', 'Hamburg', 'Stuttgart']}\n"
     ]
    }
   ],
   "source": [
    "# Nesting\n",
    "Capitals = {\n",
    "\"France\" : \"Paris\",\n",
    "\"Germany\" : \"Berlin\"\n",
    "}\n",
    "\n",
    "# Nesting a list in a Dictionary\n",
    "\n",
    "travel_log = {\n",
    "    \"France\": {\"cities_visited\": [\"Paris\", \"Lille\", \"Dijon\"], \"total_visits\":12},\n",
    "    \"Germany\":{\"cities_visited\" : [\"Berlin\", \"Hamburg\", \"Stuttgart\"],\"total_visits\" : 5}\n",
    "}\n",
    "\n"
   ]
  },
  {
   "cell_type": "code",
   "execution_count": 6,
   "metadata": {},
   "outputs": [],
   "source": [
    "# Nesting Dictionary in a List\n",
    "\n",
    "travel_log = [\n",
    "    {\n",
    "    \"country\": \"France\", \n",
    "    \"cities_visited\": [\"Paris\", \"Lille\", \"Dijon\"], \n",
    "    \"total_visits\":12\n",
    "    },\n",
    "    {\n",
    "    \"country\": \"Germany\", \n",
    "    \"cities_visited\" : [\"Berlin\", \"Hamburg\", \"Stuttgart\"],\n",
    "    \"total_visits\" : 5\n",
    "    }\n",
    "]"
   ]
  },
  {
   "cell_type": "code",
   "execution_count": null,
   "metadata": {},
   "outputs": [],
   "source": []
  }
 ],
 "metadata": {
  "kernelspec": {
   "display_name": "Python 3",
   "language": "python",
   "name": "python3"
  },
  "language_info": {
   "codemirror_mode": {
    "name": "ipython",
    "version": 3
   },
   "file_extension": ".py",
   "mimetype": "text/x-python",
   "name": "python",
   "nbconvert_exporter": "python",
   "pygments_lexer": "ipython3",
   "version": "3.12.1"
  }
 },
 "nbformat": 4,
 "nbformat_minor": 2
}
