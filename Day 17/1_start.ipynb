{
 "cells": [
  {
   "metadata": {
    "ExecuteTime": {
     "end_time": "2024-05-20T05:31:59.799366Z",
     "start_time": "2024-05-20T05:31:59.792003Z"
    }
   },
   "cell_type": "code",
   "source": [
    "class User:\n",
    "    pass\n",
    "    \n",
    "    \n",
    "user_1 = User()\n",
    "user_1.id = \"001\"\n",
    "user_1.username = \"angela\"\n",
    "\n",
    "\n",
    "print(user_1.username)"
   ],
   "id": "66e295f85c80f617",
   "execution_count": 1,
   "outputs": []
  },
  {
   "metadata": {
    "ExecuteTime": {
     "end_time": "2024-05-20T05:31:59.917205Z",
     "start_time": "2024-05-20T05:31:59.914339Z"
    }
   },
   "cell_type": "code",
   "source": [
    "user_2 = User()\n",
    "user_2.id = \"002\"\n",
    "user_2.username = \"jack\""
   ],
   "id": "4b4c914596ed6b",
   "execution_count": 2,
   "outputs": []
  },
  {
   "metadata": {
    "ExecuteTime": {
     "end_time": "2024-05-20T05:31:59.965151Z",
     "start_time": "2024-05-20T05:31:59.960953Z"
    }
   },
   "cell_type": "code",
   "source": [
    "class User:\n",
    "    def __init__(self):\n",
    "        print(\"new user being created....\")\n",
    "        \n",
    "user_1 = User()\n",
    "user_1.id = \"001\"\n",
    "user_1.username = \"angela\"\n",
    "\n",
    "\n",
    "print(user_1.username)\n",
    "user_2 = User()\n",
    "user_2.id = \"002\"\n",
    "user_2.username = \"jack\""
   ],
   "id": "7d28accf5cf89d73",
   "execution_count": 3,
   "outputs": []
  },
  {
   "metadata": {
    "ExecuteTime": {
     "end_time": "2024-05-20T05:32:00.160063Z",
     "start_time": "2024-05-20T05:32:00.156390Z"
    }
   },
   "cell_type": "code",
   "source": [
    "class Car:\n",
    "    def __init__(self, seats):\n",
    "        self.seats = seats\n",
    "\n",
    "my_car = Car(5)\n",
    "print(my_car.seats)"
   ],
   "id": "9597f82f31aeffbd",
   "execution_count": 4,
   "outputs": []
  },
  {
   "metadata": {
    "ExecuteTime": {
     "end_time": "2024-05-20T05:32:00.213458Z",
     "start_time": "2024-05-20T05:32:00.209272Z"
    }
   },
   "cell_type": "code",
   "source": [
    "class User:\n",
    "    def __init__(self, user_id, username):\n",
    "        self.id = user_id\n",
    "        self.username = username\n",
    "        \n",
    "user_1 = User(\"001\", \"Angela\")\n",
    "user_2 = User(\"002\", \"jack\")\n",
    "\n",
    "\n",
    "print(user_1.id)\n"
   ],
   "id": "ccd71bc93010930e",
   "execution_count": 5,
   "outputs": []
  }
 ],
 "metadata": {
  "kernelspec": {
   "display_name": "Python 3",
   "language": "python",
   "name": "python3"
  },
  "language_info": {
   "codemirror_mode": {
    "name": "ipython",
    "version": 2
   },
   "file_extension": ".py",
   "mimetype": "text/x-python",
   "name": "python",
   "nbconvert_exporter": "python",
   "pygments_lexer": "ipython2",
   "version": "2.7.6"
  }
 },
 "nbformat": 4,
 "nbformat_minor": 5
}
