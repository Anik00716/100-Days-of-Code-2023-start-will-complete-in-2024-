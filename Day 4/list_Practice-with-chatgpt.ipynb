{
 "cells": [
  {
   "cell_type": "code",
   "execution_count": 1,
   "metadata": {},
   "outputs": [
    {
     "name": "stdout",
     "output_type": "stream",
     "text": [
      "[]\n"
     ]
    }
   ],
   "source": [
    "empty_list = []\n",
    "print(empty_list)\n"
   ]
  },
  {
   "cell_type": "code",
   "execution_count": 2,
   "metadata": {},
   "outputs": [
    {
     "name": "stdout",
     "output_type": "stream",
     "text": [
      "[1, 'Hello', 3.14, [2, 4, 6]]\n"
     ]
    }
   ],
   "source": [
    "mixed_list = [1, \"Hello\", 3.14, [2, 4, 6]]\n",
    "print(mixed_list)\n"
   ]
  },
  {
   "cell_type": "code",
   "execution_count": 3,
   "metadata": {},
   "outputs": [
    {
     "name": "stdout",
     "output_type": "stream",
     "text": [
      "['h', 'e', 'l', 'l', 'o']\n",
      "[1, 2, 3]\n"
     ]
    }
   ],
   "source": [
    "string_to_list = list(\"hello\")\n",
    "print(string_to_list)  # Output: ['h', 'e', 'l', 'l', 'o']\n",
    "\n",
    "tuple_to_list = list((1, 2, 3))\n",
    "print(tuple_to_list)  # Output: [1, 2, 3]\n"
   ]
  },
  {
   "cell_type": "code",
   "execution_count": 4,
   "metadata": {},
   "outputs": [
    {
     "name": "stdout",
     "output_type": "stream",
     "text": [
      "['Sunday', 'Monday', 'Tuesday', 'Wednesday', 'Thursday', 'Friday', 'Saturday']\n"
     ]
    }
   ],
   "source": [
    "days_of_the_week = [\"Sunday\", \"Monday\", \"Tuesday\", \"Wednesday\", \"Thursday\", \"Friday\", \"Saturday\"]\n",
    "print(days_of_the_week)\n"
   ]
  },
  {
   "cell_type": "markdown",
   "metadata": {},
   "source": [
    "### Accessing Index"
   ]
  },
  {
   "cell_type": "code",
   "execution_count": 5,
   "metadata": {},
   "outputs": [
    {
     "name": "stdout",
     "output_type": "stream",
     "text": [
      "apple\n",
      "cherry\n"
     ]
    }
   ],
   "source": [
    "fruits = [\"apple\", \"banana\", \"cherry\", \"date\"]\n",
    "print(fruits[0])  # Output: apple\n",
    "print(fruits[2])  # Output: cherry\n"
   ]
  },
  {
   "cell_type": "code",
   "execution_count": 6,
   "metadata": {},
   "outputs": [
    {
     "name": "stdout",
     "output_type": "stream",
     "text": [
      "date\n",
      "banana\n"
     ]
    }
   ],
   "source": [
    "print(fruits[-1])  # Output: date\n",
    "print(fruits[-3])  # Output: banana\n"
   ]
  },
  {
   "cell_type": "code",
   "execution_count": 7,
   "metadata": {},
   "outputs": [
    {
     "name": "stdout",
     "output_type": "stream",
     "text": [
      "['banana', 'cherry']\n",
      "['apple', 'banana']\n",
      "['cherry', 'date']\n",
      "['banana', 'cherry']\n"
     ]
    }
   ],
   "source": [
    "print(fruits[1:3])  # Output: ['banana', 'cherry']\n",
    "print(fruits[:2])   # Output: ['apple', 'banana']\n",
    "print(fruits[2:])   # Output: ['cherry', 'date']\n",
    "print(fruits[-3:-1]) # Output: ['banana', 'cherry']\n"
   ]
  },
  {
   "cell_type": "code",
   "execution_count": 8,
   "metadata": {},
   "outputs": [
    {
     "name": "stdout",
     "output_type": "stream",
     "text": [
      "Sunday\n",
      "Saturday\n",
      "['Monday', 'Tuesday', 'Wednesday', 'Thursday', 'Friday']\n"
     ]
    }
   ],
   "source": [
    "days_of_the_week = [\"Sunday\", \"Monday\", \"Tuesday\", \"Wednesday\", \"Thursday\", \"Friday\", \"Saturday\"]\n",
    "\n",
    "# Access the first day\n",
    "print(days_of_the_week[0])\n",
    "\n",
    "# Access the last day\n",
    "print(days_of_the_week[-1])\n",
    "\n",
    "# Access weekdays only\n",
    "print(days_of_the_week[1:6])\n"
   ]
  },
  {
   "cell_type": "markdown",
   "metadata": {},
   "source": [
    "### Modifying Lists"
   ]
  },
  {
   "cell_type": "code",
   "execution_count": 9,
   "metadata": {},
   "outputs": [
    {
     "name": "stdout",
     "output_type": "stream",
     "text": [
      "['dog', 'cat', 'bird', 'fish']\n"
     ]
    }
   ],
   "source": [
    "animals = ['dog', 'cat', 'bird']\n",
    "animals.append('fish')\n",
    "print(animals)  # Output: ['dog', 'cat', 'bird', 'fish']\n"
   ]
  },
  {
   "cell_type": "code",
   "execution_count": 10,
   "metadata": {},
   "outputs": [
    {
     "name": "stdout",
     "output_type": "stream",
     "text": [
      "['dog', 'cat', 'snake', 'bird', 'fish']\n"
     ]
    }
   ],
   "source": [
    "animals.insert(2, 'snake')\n",
    "print(animals)  # Output: ['dog', 'cat', 'snake', 'bird', 'fish']\n"
   ]
  },
  {
   "cell_type": "code",
   "execution_count": 11,
   "metadata": {},
   "outputs": [
    {
     "name": "stdout",
     "output_type": "stream",
     "text": [
      "['dog', 'cat', 'snake', 'bird', 'fish', 'frog', 'hamster']\n"
     ]
    }
   ],
   "source": [
    "more_animals = ['frog','hamster']\n",
    "animals.extend(more_animals)\n",
    "print(animals)"
   ]
  },
  {
   "cell_type": "code",
   "execution_count": 12,
   "metadata": {},
   "outputs": [
    {
     "name": "stdout",
     "output_type": "stream",
     "text": [
      "After appending: ['Inception', 'The Matrix', 'Interstellar', 'Avatar']\n",
      "After inserting: ['Inception', 'Pulp Fiction', 'The Matrix', 'Interstellar', 'Avatar']\n",
      "After extending: ['Inception', 'Pulp Fiction', 'The Matrix', 'Interstellar', 'Avatar', 'Fight Club', 'Forrest Gump']\n"
     ]
    }
   ],
   "source": [
    "favorite_movies = ['Inception', 'The Matrix', 'Interstellar']\n",
    "\n",
    "# Append a new movie to the list\n",
    "favorite_movies.append('Avatar')\n",
    "print(\"After appending:\", favorite_movies)\n",
    "\n",
    "# Insert a movie at the second position\n",
    "favorite_movies.insert(1, 'Pulp Fiction')\n",
    "print(\"After inserting:\", favorite_movies)\n",
    "\n",
    "# Extend the list with movies recommended by a friend\n",
    "friends_recommendations = ['Fight Club', 'Forrest Gump']\n",
    "favorite_movies.extend(friends_recommendations)\n",
    "print(\"After extending:\", favorite_movies)\n"
   ]
  },
  {
   "cell_type": "markdown",
   "metadata": {},
   "source": [
    "### Removing element from lists"
   ]
  },
  {
   "cell_type": "code",
   "execution_count": 13,
   "metadata": {},
   "outputs": [
    {
     "name": "stdout",
     "output_type": "stream",
     "text": [
      "['red', 'blue', 'yellolw']\n"
     ]
    }
   ],
   "source": [
    "colors = ['red', 'blue', 'green', 'yellolw']\n",
    "colors.remove('green')\n",
    "print(colors)"
   ]
  },
  {
   "cell_type": "code",
   "execution_count": 14,
   "metadata": {},
   "outputs": [
    {
     "name": "stdout",
     "output_type": "stream",
     "text": [
      "yellolw\n",
      "['red', 'blue']\n"
     ]
    }
   ],
   "source": [
    "last__color = colors.pop()\n",
    "print(last__color)\n",
    "print(colors)"
   ]
  },
  {
   "cell_type": "code",
   "execution_count": 15,
   "metadata": {},
   "outputs": [
    {
     "name": "stdout",
     "output_type": "stream",
     "text": [
      "['red']\n"
     ]
    }
   ],
   "source": [
    "del colors[1]\n",
    "print(colors)"
   ]
  },
  {
   "cell_type": "code",
   "execution_count": 16,
   "metadata": {},
   "outputs": [
    {
     "name": "stdout",
     "output_type": "stream",
     "text": [
      "Completed: meet with Zach\n",
      "Remaining tasks: []\n"
     ]
    }
   ],
   "source": [
    "tasks = ['email Frank', 'call Sarah', 'meet with Zach']\n",
    "\n",
    "# Remove 'call Sarah' from the list\n",
    "tasks.remove('call Sarah')\n",
    "\n",
    "# Pop the last task\n",
    "last_task = tasks.pop()\n",
    "print(\"Completed:\", last_task)\n",
    "\n",
    "# Assuming 'email Frank' is now done, let's remove it by index\n",
    "del tasks[0]\n",
    "\n",
    "# Check what's left\n",
    "print(\"Remaining tasks:\", tasks)\n"
   ]
  },
  {
   "cell_type": "markdown",
   "metadata": {},
   "source": [
    "### List Operations"
   ]
  },
  {
   "cell_type": "code",
   "execution_count": 17,
   "metadata": {},
   "outputs": [
    {
     "name": "stdout",
     "output_type": "stream",
     "text": [
      "[1, 2, 3, 4, 5, 6]\n"
     ]
    }
   ],
   "source": [
    "list1 = [1, 2, 3]\n",
    "list2 = [4, 5, 6]\n",
    "combined_list = list1 + list2\n",
    "print(combined_list)  # Output: [1, 2, 3, 4, 5, 6]\n"
   ]
  },
  {
   "cell_type": "code",
   "execution_count": 18,
   "metadata": {},
   "outputs": [
    {
     "name": "stdout",
     "output_type": "stream",
     "text": [
      "[1, 2, 3, 1, 2, 3, 1, 2, 3]\n"
     ]
    }
   ],
   "source": [
    "repeated_list = list1 * 3\n",
    "print(repeated_list)  # Output: [1, 2, 3, 1, 2, 3, 1, 2, 3]\n"
   ]
  },
  {
   "cell_type": "code",
   "execution_count": 19,
   "metadata": {},
   "outputs": [
    {
     "name": "stdout",
     "output_type": "stream",
     "text": [
      "True\n",
      "False\n"
     ]
    }
   ],
   "source": [
    "print(2 in list1)  # Output: True\n",
    "print(7 in list1)  # Output: False\n"
   ]
  },
  {
   "cell_type": "code",
   "execution_count": 20,
   "metadata": {},
   "outputs": [
    {
     "name": "stdout",
     "output_type": "stream",
     "text": [
      "1\n",
      "2\n",
      "3\n"
     ]
    }
   ],
   "source": [
    "for item in list1:\n",
    "    print(item)\n",
    "# Output:\n",
    "# 1\n",
    "# 2\n",
    "# 3\n"
   ]
  },
  {
   "cell_type": "code",
   "execution_count": 21,
   "metadata": {},
   "outputs": [
    {
     "name": "stdout",
     "output_type": "stream",
     "text": [
      "Shopping List:\n",
      "milk\n",
      "cheese\n"
     ]
    }
   ],
   "source": [
    "groceries = ['milk', 'bread', 'eggs', 'cheese']\n",
    "home_items = ['eggs', 'toilet paper', 'shampoo', 'bread']\n",
    "\n",
    "# Create a final list excluding items you already have\n",
    "final_list = [item for item in groceries if item not in home_items]\n",
    "\n",
    "# Print what you need to buy\n",
    "print(\"Shopping List:\")\n",
    "for item in final_list:\n",
    "    print(item)\n"
   ]
  },
  {
   "cell_type": "markdown",
   "metadata": {},
   "source": [
    "### List Function"
   ]
  },
  {
   "cell_type": "code",
   "execution_count": 22,
   "metadata": {},
   "outputs": [
    {
     "name": "stdout",
     "output_type": "stream",
     "text": [
      "5\n"
     ]
    }
   ],
   "source": [
    "numbers = [10, 20, 30, 40, 50]\n",
    "print(len(numbers))  # Output: 5\n"
   ]
  },
  {
   "cell_type": "code",
   "execution_count": 23,
   "metadata": {},
   "outputs": [
    {
     "name": "stdout",
     "output_type": "stream",
     "text": [
      "10\n",
      "50\n"
     ]
    }
   ],
   "source": [
    "print(min(numbers))  # Output: 10\n",
    "print(max(numbers))  # Output: 50\n"
   ]
  },
  {
   "cell_type": "code",
   "execution_count": 24,
   "metadata": {},
   "outputs": [
    {
     "name": "stdout",
     "output_type": "stream",
     "text": [
      "150\n"
     ]
    }
   ],
   "source": [
    "print(sum(numbers))  # Output: 150\n"
   ]
  },
  {
   "cell_type": "code",
   "execution_count": 25,
   "metadata": {},
   "outputs": [
    {
     "name": "stdout",
     "output_type": "stream",
     "text": [
      "[50, 40, 30, 20, 10]\n",
      "[10, 20, 30, 40, 50]\n"
     ]
    }
   ],
   "source": [
    "sorted_numbers = sorted(numbers, reverse=True)\n",
    "print(sorted_numbers)  # Output: [50, 40, 30, 20, 10]\n",
    "\n",
    "# Alternatively, sort in place\n",
    "numbers.sort()\n",
    "print(numbers)  # Output: [10, 20, 30, 40, 50]\n"
   ]
  },
  {
   "cell_type": "code",
   "execution_count": 26,
   "metadata": {},
   "outputs": [
    {
     "name": "stdout",
     "output_type": "stream",
     "text": [
      "[50, 40, 30, 20, 10]\n",
      "10\n",
      "20\n",
      "30\n",
      "40\n",
      "50\n"
     ]
    }
   ],
   "source": [
    "numbers.reverse()\n",
    "print(numbers)  # Output: [50, 40, 30, 20, 10]\n",
    "\n",
    "# Using reversed()\n",
    "for item in reversed(numbers):\n",
    "    print(item)\n"
   ]
  },
  {
   "cell_type": "code",
   "execution_count": 27,
   "metadata": {},
   "outputs": [
    {
     "name": "stdout",
     "output_type": "stream",
     "text": [
      "Highest score: 93\n",
      "Lowest score: 78\n",
      "Total score: 434\n",
      "Scores in descending order: [93, 90, 88, 85, 78]\n"
     ]
    }
   ],
   "source": [
    "scores = [85, 90, 78, 88, 93]\n",
    "\n",
    "# Highest score\n",
    "print(\"Highest score:\", max(scores))\n",
    "\n",
    "# Lowest score\n",
    "print(\"Lowest score:\", min(scores))\n",
    "\n",
    "# Total score\n",
    "print(\"Total score:\", sum(scores))\n",
    "\n",
    "# Scores in descending order\n",
    "scores_sorted_desc = sorted(scores, reverse=True)\n",
    "print(\"Scores in descending order:\", scores_sorted_desc)\n"
   ]
  },
  {
   "cell_type": "markdown",
   "metadata": {},
   "source": [
    "### List Comprehensions\n",
    "[expression for item in iterable if condition]\n",
    "- expression: An expression to evaluate and return for each item.\n",
    "- item: The variable representing each element in the iterable.\n",
    "- iterable: A sequence (list, tuple, etc.) that is iterated over.\n",
    "- condition: An optional if condition to filter items from the iterable.\n"
   ]
  },
  {
   "cell_type": "code",
   "execution_count": 31,
   "metadata": {},
   "outputs": [
    {
     "name": "stdout",
     "output_type": "stream",
     "text": [
      "[1, 4, 9, 16, 25]\n"
     ]
    }
   ],
   "source": [
    "numbers = [1, 2, 3, 4, 5]\n",
    "squares = [i ** 2 for i in numbers]\n",
    "print(squares)  # Output: [1, 4, 9, 16, 25]\n"
   ]
  },
  {
   "cell_type": "code",
   "execution_count": 32,
   "metadata": {},
   "outputs": [
    {
     "name": "stdout",
     "output_type": "stream",
     "text": [
      "[2, 4]\n"
     ]
    }
   ],
   "source": [
    "even_numbers = [number for number in numbers if number % 2 == 0]\n",
    "print(even_numbers)  # Output: [2, 4]\n"
   ]
  },
  {
   "cell_type": "code",
   "execution_count": 33,
   "metadata": {},
   "outputs": [
    {
     "name": "stdout",
     "output_type": "stream",
     "text": [
      "[4, 4]\n"
     ]
    }
   ],
   "source": [
    "list1 = [1, 2, 3]\n",
    "list2 = [3, 2, 1]\n",
    "combined = [x + y for x, y in zip(list1, list2) if x != y]\n",
    "print(combined)  # Output: [4, 4]\n"
   ]
  },
  {
   "cell_type": "code",
   "execution_count": 34,
   "metadata": {},
   "outputs": [
    {
     "name": "stdout",
     "output_type": "stream",
     "text": [
      "['HELLO', 'WORLD', 'PYTHON']\n"
     ]
    }
   ],
   "source": [
    "words = [\"hello\", \"the\", \"world\", \"python\", \"the\"]\n",
    "uppercase_words = [word.upper() for word in words if word != \"the\"]\n",
    "print(uppercase_words)  # Output: ['HELLO', 'WORLD', 'PYTHON']\n"
   ]
  },
  {
   "cell_type": "code",
   "execution_count": null,
   "metadata": {},
   "outputs": [],
   "source": []
  }
 ],
 "metadata": {
  "kernelspec": {
   "display_name": "Python 3",
   "language": "python",
   "name": "python3"
  },
  "language_info": {
   "codemirror_mode": {
    "name": "ipython",
    "version": 3
   },
   "file_extension": ".py",
   "mimetype": "text/x-python",
   "name": "python",
   "nbconvert_exporter": "python",
   "pygments_lexer": "ipython3",
   "version": "3.12.1"
  }
 },
 "nbformat": 4,
 "nbformat_minor": 2
}
