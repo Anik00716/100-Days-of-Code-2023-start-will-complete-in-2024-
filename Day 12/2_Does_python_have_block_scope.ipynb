{
 "cells": [
  {
   "cell_type": "code",
   "execution_count": 1,
   "metadata": {},
   "outputs": [
    {
     "name": "stdout",
     "output_type": "stream",
     "text": [
      "Skeleton\n"
     ]
    }
   ],
   "source": [
    "# There is no block scope\n",
    "\n",
    "game_level = 3\n",
    "enemies = [\"Skeleton\", \"Zombie\", \"Alien\"]\n",
    "if game_level < 5:\n",
    "    new_enemy = enemies[0]\n",
    "\n",
    "print(new_enemy)"
   ]
  },
  {
   "cell_type": "code",
   "execution_count": 2,
   "metadata": {},
   "outputs": [],
   "source": [
    "game_level = 3\n",
    "def create_enemy():\n",
    "    enemies = [\"Skeleton\", \"Zombie\", \"Alien\"]\n",
    "    if game_level < 5:\n",
    "        new_enemy = enemies[0]\n",
    "\n",
    "    print(new_enemy)"
   ]
  },
  {
   "cell_type": "code",
   "execution_count": null,
   "metadata": {},
   "outputs": [],
   "source": []
  }
 ],
 "metadata": {
  "kernelspec": {
   "display_name": "cloudspace",
   "language": "python",
   "name": "python3"
  },
  "language_info": {
   "codemirror_mode": {
    "name": "ipython",
    "version": 3
   },
   "file_extension": ".py",
   "mimetype": "text/x-python",
   "name": "python",
   "nbconvert_exporter": "python",
   "pygments_lexer": "ipython3",
   "version": "3.10.10"
  }
 },
 "nbformat": 4,
 "nbformat_minor": 2
}
