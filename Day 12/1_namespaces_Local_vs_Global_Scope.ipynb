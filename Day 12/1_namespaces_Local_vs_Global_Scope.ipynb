{
 "cells": [
  {
   "cell_type": "code",
   "execution_count": 1,
   "metadata": {},
   "outputs": [
    {
     "name": "stdout",
     "output_type": "stream",
     "text": [
      "enemies inside function: 2\n",
      "enemies outside function: 1\n"
     ]
    }
   ],
   "source": [
    "################### Scope ####################\n",
    "\n",
    "enemies = 1\n",
    "\n",
    "def increase_enemies():\n",
    "  enemies = 2\n",
    "  print(f\"enemies inside function: {enemies}\")\n",
    "\n",
    "increase_enemies()\n",
    "print(f\"enemies outside function: {enemies}\")"
   ]
  },
  {
   "cell_type": "code",
   "execution_count": 2,
   "metadata": {},
   "outputs": [],
   "source": [
    "# Local Scope\n",
    "def drink_potion():\n",
    "    postion_strength = 2\n",
    "    print(postion_strength)"
   ]
  },
  {
   "cell_type": "code",
   "execution_count": 3,
   "metadata": {},
   "outputs": [
    {
     "ename": "NameError",
     "evalue": "name 'postion_strength' is not defined",
     "output_type": "error",
     "traceback": [
      "\u001b[0;31m---------------------------------------------------------------------------\u001b[0m",
      "\u001b[0;31mNameError\u001b[0m                                 Traceback (most recent call last)",
      "Cell \u001b[0;32mIn[3], line 1\u001b[0m\n\u001b[0;32m----> 1\u001b[0m \u001b[38;5;28mprint\u001b[39m(\u001b[43mpostion_strength\u001b[49m)\n",
      "\u001b[0;31mNameError\u001b[0m: name 'postion_strength' is not defined"
     ]
    }
   ],
   "source": [
    "print(postion_strength)"
   ]
  },
  {
   "cell_type": "code",
   "execution_count": 4,
   "metadata": {},
   "outputs": [
    {
     "name": "stdout",
     "output_type": "stream",
     "text": [
      "10\n",
      "10\n"
     ]
    }
   ],
   "source": [
    "# Global Scope\n",
    "player_health = 10\n",
    "def drink_potion():\n",
    "    postion_strength = 2\n",
    "    print(player_health)\n",
    "\n",
    "drink_potion()\n",
    "print(player_health)"
   ]
  },
  {
   "cell_type": "markdown",
   "metadata": {},
   "source": [
    "**Local Scope:**\n",
    "* A local scope refers to the area within a function where variables are defined and can only be accessed. These variables are      \n",
    "called local variables.\n",
    "* Local variables are created when a function starts and are destroyed when the function ends.\n",
    "* They are only recognized inside the function where they are declared.<br>"
   ]
  },
  {
   "cell_type": "markdown",
   "metadata": {},
   "source": [
    "**Global Scope:**\n",
    "* A global scope refers to the area outside of all functions, generally at the top level of the script. Variables defined here are called global variables.\n",
    "* Global variables are accessible from any part of the code, including inside functions, provided they are declared as global or are * accessed using non-modifying ways.\n",
    "* They remain available throughout the execution of the program."
   ]
  },
  {
   "cell_type": "code",
   "execution_count": 5,
   "metadata": {},
   "outputs": [
    {
     "name": "stdout",
     "output_type": "stream",
     "text": [
      "Inside the function, local y =  10\n",
      "Inside the function, global x =  5\n",
      "Outside the function, global x =  5\n"
     ]
    }
   ],
   "source": [
    "x = 5  # This is a global variable\n",
    "\n",
    "def my_function():\n",
    "    y = 10  # This is a local variable\n",
    "    print(\"Inside the function, local y = \", y)\n",
    "    print(\"Inside the function, global x = \", x)\n",
    "\n",
    "my_function()\n",
    "\n",
    "print(\"Outside the function, global x = \", x)\n",
    "# print(\"Outside the function, local y = \", y)  # This would cause an error because y is not accessible here\n"
   ]
  },
  {
   "cell_type": "markdown",
   "metadata": {},
   "source": [
    "**In this example:**\n",
    "\n",
    "- x is a global variable and can be accessed both inside and outside of the function.\n",
    "- y is a local variable and can only be accessed inside the function where it is declared. Trying to access y outside the function will result in an error because it's out of its scope."
   ]
  },
  {
   "cell_type": "code",
   "execution_count": null,
   "metadata": {},
   "outputs": [],
   "source": []
  }
 ],
 "metadata": {
  "kernelspec": {
   "display_name": "cloudspace",
   "language": "python",
   "name": "python3"
  },
  "language_info": {
   "codemirror_mode": {
    "name": "ipython",
    "version": 3
   },
   "file_extension": ".py",
   "mimetype": "text/x-python",
   "name": "python",
   "nbconvert_exporter": "python",
   "pygments_lexer": "ipython3",
   "version": "3.10.10"
  }
 },
 "nbformat": 4,
 "nbformat_minor": 2
}
