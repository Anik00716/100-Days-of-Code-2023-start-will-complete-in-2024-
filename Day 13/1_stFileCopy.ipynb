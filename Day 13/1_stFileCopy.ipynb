{
 "cells": [
  {
   "cell_type": "code",
   "id": "initial_id",
   "metadata": {
    "collapsed": true,
    "ExecuteTime": {
     "end_time": "2024-05-01T17:11:29.040905Z",
     "start_time": "2024-05-01T17:11:29.028407Z"
    }
   },
   "source": [
    "# Describe Problem\n",
    "def my_function():\n",
    "  for i in range(1, 20): \n",
    "    if i == 19:\n",
    "      print(\"You got it\")\n",
    "my_function()"
   ],
   "outputs": [
    {
     "name": "stdout",
     "output_type": "stream",
     "text": [
      "You got it\n"
     ]
    }
   ],
   "execution_count": 4
  },
  {
   "metadata": {
    "ExecuteTime": {
     "end_time": "2024-05-01T17:22:33.789738Z",
     "start_time": "2024-05-01T17:22:33.781172Z"
    }
   },
   "cell_type": "code",
   "source": [
    "# Reproduce the Bug\n",
    "from random import randint\n",
    "dice_imgs = [\"❶\", \"❷\", \"❸\", \"❹\", \"❺\", \"❻\"]\n",
    "dice_num = randint(0, 5)\n",
    "print(dice_imgs[dice_num])"
   ],
   "id": "b5916f9141702269",
   "outputs": [
    {
     "name": "stdout",
     "output_type": "stream",
     "text": [
      "❺\n"
     ]
    }
   ],
   "execution_count": 22
  },
  {
   "metadata": {
    "ExecuteTime": {
     "end_time": "2024-05-01T17:31:38.233837Z",
     "start_time": "2024-05-01T17:31:33.771634Z"
    }
   },
   "cell_type": "code",
   "source": [
    "# Play Computer\n",
    "year = int(input(\"What's your year of birth?\"))\n",
    "if (year >= 1980) and (year <= 1994):\n",
    "  print(\"You are a millennial.\")\n",
    "elif year >= 1994:\n",
    "  print(\"You are a Gen Z.\")"
   ],
   "id": "fac3940ba13b4813",
   "outputs": [
    {
     "name": "stdout",
     "output_type": "stream",
     "text": [
      "You are a millennial.\n"
     ]
    }
   ],
   "execution_count": 26
  },
  {
   "metadata": {
    "ExecuteTime": {
     "end_time": "2024-05-01T17:36:21.363455Z",
     "start_time": "2024-05-01T17:36:18.652128Z"
    }
   },
   "cell_type": "code",
   "source": [
    "# Fix the Errors\n",
    "age = int(input(\"How old are you?\"))\n",
    "if age > 18:\n",
    "  print(f\"You can drive at age {age}.\")\n"
   ],
   "id": "cada69e4d8770e6b",
   "outputs": [
    {
     "name": "stdout",
     "output_type": "stream",
     "text": [
      "You can drive at age 21.\n"
     ]
    }
   ],
   "execution_count": 30
  },
  {
   "metadata": {
    "ExecuteTime": {
     "end_time": "2024-05-01T17:49:19.798962Z",
     "start_time": "2024-05-01T17:49:12.119019Z"
    }
   },
   "cell_type": "code",
   "source": [
    "#Print is Your Friend\n",
    "pages = 0\n",
    "word_per_page = 0\n",
    "pages = int(input(\"Number of pages: \"))\n",
    "word_per_page = int(input(\"Number of words per page: \"))\n",
    "total_words = pages * word_per_page\n",
    "print(f\"pages = {pages}\")\n",
    "print(f\"word_per_page = {word_per_page}\")\n",
    "print(total_words)"
   ],
   "id": "69e86c4a70053685",
   "outputs": [
    {
     "name": "stdout",
     "output_type": "stream",
     "text": [
      "pages = 45\n",
      "word_per_page = 250\n",
      "11250\n"
     ]
    }
   ],
   "execution_count": 35
  },
  {
   "metadata": {
    "ExecuteTime": {
     "end_time": "2024-05-01T17:53:21.201156Z",
     "start_time": "2024-05-01T17:53:21.194850Z"
    }
   },
   "cell_type": "code",
   "source": [
    "#Use a Debugger\n",
    "def mutate(a_list):\n",
    "  b_list = []\n",
    "  for item in a_list:\n",
    "    new_item = item * 2\n",
    "    b_list.append(new_item)\n",
    "  print(b_list)\n",
    "\n",
    "mutate([1,2,3,5,8,13])"
   ],
   "id": "e373075638a5d923",
   "outputs": [
    {
     "name": "stdout",
     "output_type": "stream",
     "text": [
      "[2, 4, 6, 10, 16, 26]\n"
     ]
    }
   ],
   "execution_count": 37
  },
  {
   "metadata": {},
   "cell_type": "code",
   "outputs": [],
   "execution_count": null,
   "source": "",
   "id": "3350c154562fd613"
  }
 ],
 "metadata": {
  "kernelspec": {
   "display_name": "Python 3",
   "language": "python",
   "name": "python3"
  },
  "language_info": {
   "codemirror_mode": {
    "name": "ipython",
    "version": 2
   },
   "file_extension": ".py",
   "mimetype": "text/x-python",
   "name": "python",
   "nbconvert_exporter": "python",
   "pygments_lexer": "ipython2",
   "version": "2.7.6"
  }
 },
 "nbformat": 4,
 "nbformat_minor": 5
}
