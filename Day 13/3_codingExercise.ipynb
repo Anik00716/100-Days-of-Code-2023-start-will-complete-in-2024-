{
 "cells": [
  {
   "cell_type": "code",
   "id": "initial_id",
   "metadata": {
    "collapsed": true,
    "ExecuteTime": {
     "end_time": "2024-05-01T18:23:43.542248Z",
     "start_time": "2024-05-01T18:23:41.545278Z"
    }
   },
   "source": [
    "#Odd and Even Number\n",
    "number = int(input())  # Which number do you want to check?\n",
    "\n",
    "if number % 2 == 0:\n",
    "    print(\"This is an even number.\")\n",
    "else:\n",
    "    print(\"This is an odd number.\")\n"
   ],
   "outputs": [
    {
     "name": "stdout",
     "output_type": "stream",
     "text": [
      "This is an even number.\n"
     ]
    }
   ],
   "execution_count": 1
  },
  {
   "metadata": {
    "ExecuteTime": {
     "end_time": "2024-05-01T18:26:23.962243Z",
     "start_time": "2024-05-01T18:26:20.854584Z"
    }
   },
   "cell_type": "code",
   "source": [
    "#Leap Year\n",
    "# Which year do you want to check?\n",
    "year = int(input())\n",
    "\n",
    "if year % 4 == 0:\n",
    "  if year % 100 == 0:\n",
    "    if year % 400 == 0:\n",
    "      print(\"Leap year.\")\n",
    "    else:\n",
    "      print(\"Not leap year.\")\n",
    "  else:\n",
    "    print(\"Leap year.\")\n",
    "else:\n",
    "  print(\"Not leap year.\")\n",
    "  "
   ],
   "id": "5ae06ab42414b6ae",
   "outputs": [
    {
     "name": "stdout",
     "output_type": "stream",
     "text": [
      "Leap year.\n"
     ]
    }
   ],
   "execution_count": 6
  },
  {
   "metadata": {
    "ExecuteTime": {
     "end_time": "2024-05-01T18:34:07.812056Z",
     "start_time": "2024-05-01T18:34:04.335461Z"
    }
   },
   "cell_type": "code",
   "source": [
    "# FizzBuzz\n",
    "target = int(input())\n",
    "for number in range(1, target + 1):\n",
    "  if number % 3 == 0 and number % 5 == 0:\n",
    "    print(\"FizzBuzz\")\n",
    "  elif number % 3 == 0:\n",
    "    print(\"Fizz\")\n",
    "  elif number % 5 == 0:\n",
    "    print(\"Buzz\")\n",
    "  else:\n",
    "    print(number)"
   ],
   "id": "2145d0a3ed3c07",
   "outputs": [
    {
     "name": "stdout",
     "output_type": "stream",
     "text": [
      "1\n",
      "2\n",
      "Fizz\n",
      "4\n",
      "Buzz\n",
      "Fizz\n",
      "7\n",
      "8\n",
      "Fizz\n",
      "Buzz\n",
      "11\n",
      "Fizz\n",
      "13\n",
      "14\n",
      "FizzBuzz\n"
     ]
    }
   ],
   "execution_count": 11
  },
  {
   "metadata": {},
   "cell_type": "code",
   "outputs": [],
   "execution_count": null,
   "source": "",
   "id": "7ee7b3dde813cc7f"
  }
 ],
 "metadata": {
  "kernelspec": {
   "display_name": "Python 3",
   "language": "python",
   "name": "python3"
  },
  "language_info": {
   "codemirror_mode": {
    "name": "ipython",
    "version": 2
   },
   "file_extension": ".py",
   "mimetype": "text/x-python",
   "name": "python",
   "nbconvert_exporter": "python",
   "pygments_lexer": "ipython2",
   "version": "2.7.6"
  }
 },
 "nbformat": 4,
 "nbformat_minor": 5
}
